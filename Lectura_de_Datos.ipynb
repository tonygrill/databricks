{
  "cells": [
    {
      "cell_type": "code",
      "execution_count": null,
      "metadata": {
        "application/vnd.databricks.v1+cell": {
          "cellMetadata": {
            "byteLimit": 2048000,
            "rowLimit": 10000
          },
          "inputWidgets": {},
          "nuid": "31709d94-202d-4af3-8295-c9292bbd2e6c",
          "showTitle": false,
          "title": ""
        },
        "id": "LAVo0aiIhz01"
      },
      "outputs": [],
      "source": [
        "#Lectura desde archivo texto plano: csv\n",
        "summary_df = spark.read.csv('dbfs:/FileStore/curso_databricks/2015_summary.csv', header=\"true\", inferSchema=\"true\")"
      ]
    },
    {
      "cell_type": "code",
      "execution_count": null,
      "metadata": {
        "application/vnd.databricks.v1+cell": {
          "cellMetadata": {
            "byteLimit": 2048000,
            "rowLimit": 10000
          },
          "inputWidgets": {},
          "nuid": "6c12c6c3-81c6-454c-b8aa-a52b233f69b6",
          "showTitle": false,
          "title": ""
        },
        "id": "IIL9s6bshz02",
        "outputId": "4118bf50-9eee-478e-80d0-0662a9f08285"
      },
      "outputs": [
        {
          "output_type": "stream",
          "name": "stdout",
          "text": [
            "+-----------------+-------------------+-----+\n|DEST_COUNTRY_NAME|ORIGIN_COUNTRY_NAME|count|\n+-----------------+-------------------+-----+\n|    United States|            Romania|   15|\n|    United States|            Croatia|    1|\n|    United States|            Ireland|  344|\n|            Egypt|      United States|   15|\n|    United States|              India|   62|\n|    United States|          Singapore|    1|\n|    United States|            Grenada|   62|\n|       Costa Rica|      United States|  588|\n|          Senegal|      United States|   40|\n|          Moldova|      United States|    1|\n+-----------------+-------------------+-----+\nonly showing top 10 rows\n\n"
          ]
        }
      ],
      "source": [
        "#Mostramos los primeros 10 registros\n",
        "summary_df.show(10)"
      ]
    },
    {
      "cell_type": "code",
      "execution_count": null,
      "metadata": {
        "application/vnd.databricks.v1+cell": {
          "cellMetadata": {
            "byteLimit": 2048000,
            "rowLimit": 10000
          },
          "inputWidgets": {},
          "nuid": "145b07e8-3059-432f-a17d-707af027489a",
          "showTitle": false,
          "title": ""
        },
        "id": "57gNgnxEhz03",
        "outputId": "5269a134-b658-4826-a334-ca13c65675f4"
      },
      "outputs": [
        {
          "output_type": "stream",
          "name": "stdout",
          "text": [
            "root\n |-- DEST_COUNTRY_NAME: string (nullable = true)\n |-- ORIGIN_COUNTRY_NAME: string (nullable = true)\n |-- count: integer (nullable = true)\n\n"
          ]
        }
      ],
      "source": [
        "#Esquema de metadatos\n",
        "#Importante: el campo count, se leyo como un integer\n",
        "summary_df.printSchema()"
      ]
    },
    {
      "cell_type": "code",
      "execution_count": null,
      "metadata": {
        "application/vnd.databricks.v1+cell": {
          "cellMetadata": {
            "byteLimit": 2048000,
            "rowLimit": 10000
          },
          "inputWidgets": {},
          "nuid": "6b28adc0-009a-4a06-9557-4d836a731243",
          "showTitle": false,
          "title": ""
        },
        "id": "TUz1D8lFhz03"
      },
      "outputs": [],
      "source": [
        "#Lectura desde archivo de texto plano: data\n",
        "persona_df = spark.read.format(\"csv\").option(\"header\", \"true\").option(\"delimiter\", \"|\").option(\"encoding\", \"ISO-8859-1\").load(\"dbfs:///FileStore/curso_databricks/persona.data\")"
      ]
    },
    {
      "cell_type": "code",
      "execution_count": null,
      "metadata": {
        "application/vnd.databricks.v1+cell": {
          "cellMetadata": {
            "byteLimit": 2048000,
            "rowLimit": 10000
          },
          "inputWidgets": {},
          "nuid": "6aeb3964-3dba-47fd-93fc-c004eaeaa5b9",
          "showTitle": false,
          "title": ""
        },
        "id": "EvT5arfGhz03",
        "outputId": "42e362fe-8bb0-49b2-9c4f-aba3ffb97a28"
      },
      "outputs": [
        {
          "output_type": "stream",
          "name": "stdout",
          "text": [
            "+---+---------+--------------+--------------------+-------------+----+-------+----------+\n| ID|   NOMBRE|      TELEFONO|              CORREO|FECHA_INGRESO|EDAD|SALARIO|ID_EMPRESA|\n+---+---------+--------------+--------------------+-------------+----+-------+----------+\n|  1|     Carl|1-745-633-9145|arcu.Sed.et@ante....|   2004-04-23|  32|  20095|         5|\n|  2|Priscilla|      155-2498|Donec.egestas.Ali...|   2019-02-17|  34|   9298|         2|\n|  3|  Jocelyn|1-204-956-8594|amet.diam@loborti...|   2002-08-01|  27|  10853|         3|\n|  4|    Aidan|1-719-862-9385|euismod.et.commod...|   2018-11-06|  29|   3387|        10|\n|  5|  Leandra|      839-8044|at@pretiumetrutru...|   2002-10-10|  41|  22102|         1|\n|  6|     Bert|      797-4453|a.felis.ullamcorp...|   2017-04-25|  70|   7800|         7|\n|  7|     Mark|1-680-102-6792|Quisque.ac@placer...|   2006-04-21|  52|   8112|         5|\n|  8|    Jonah|      214-2975|eu.ultrices.sit@v...|   2017-10-07|  23|  17040|         5|\n|  9|    Hanae|      935-2277|          eu@Nunc.ca|   2003-05-25|  69|   6834|         3|\n| 10|   Cadman|1-866-561-2701|orci.adipiscing.n...|   2001-05-19|  19|   7996|         7|\n+---+---------+--------------+--------------------+-------------+----+-------+----------+\nonly showing top 10 rows\n\n"
          ]
        }
      ],
      "source": [
        "#Mostramos los primeros 10 registros\n",
        "persona_df.show(10)"
      ]
    },
    {
      "cell_type": "code",
      "execution_count": null,
      "metadata": {
        "application/vnd.databricks.v1+cell": {
          "cellMetadata": {
            "byteLimit": 2048000,
            "rowLimit": 10000
          },
          "inputWidgets": {},
          "nuid": "93c44346-a211-4e8d-853b-b198049f4df8",
          "showTitle": false,
          "title": ""
        },
        "id": "EMcM7qYYhz04",
        "outputId": "84830f21-59eb-4c6f-d37a-926bdfd82ace"
      },
      "outputs": [
        {
          "output_type": "stream",
          "name": "stdout",
          "text": [
            "root\n |-- ID: string (nullable = true)\n |-- NOMBRE: string (nullable = true)\n |-- TELEFONO: string (nullable = true)\n |-- CORREO: string (nullable = true)\n |-- FECHA_INGRESO: string (nullable = true)\n |-- EDAD: string (nullable = true)\n |-- SALARIO: string (nullable = true)\n |-- ID_EMPRESA: string (nullable = true)\n\n"
          ]
        }
      ],
      "source": [
        "#Esquema de metadatos\n",
        "#Importante todos los campos fueron reconocidos con el tipo de dato \"string\"\n",
        "persona_df.printSchema()"
      ]
    },
    {
      "cell_type": "code",
      "execution_count": null,
      "metadata": {
        "application/vnd.databricks.v1+cell": {
          "cellMetadata": {
            "byteLimit": 2048000,
            "rowLimit": 10000
          },
          "inputWidgets": {},
          "nuid": "dd841615-013c-4696-8d85-4f083293a2f4",
          "showTitle": false,
          "title": ""
        },
        "id": "QwbitqBWhz04"
      },
      "outputs": [],
      "source": [
        "#Lectura de archivos semi-estructurados JSON\n",
        "transacciones_df = spark.read.format(\"json\").option(\"multiLine\", False).load(\"dbfs:///FileStore/curso_databricks/transacciones.json\")"
      ]
    },
    {
      "cell_type": "code",
      "execution_count": null,
      "metadata": {
        "application/vnd.databricks.v1+cell": {
          "cellMetadata": {
            "byteLimit": 2048000,
            "rowLimit": 10000
          },
          "inputWidgets": {},
          "nuid": "98f954e0-ec47-47f1-b5f4-1c09c3591a16",
          "showTitle": false,
          "title": ""
        },
        "id": "LxPg8iSFhz04",
        "outputId": "442f5f81-145d-47b0-dbf7-105d9b0e2e3a"
      },
      "outputs": [
        {
          "output_type": "stream",
          "name": "stdout",
          "text": [
            "+--------------+--------------------+--------------------+\n|       EMPRESA|             PERSONA|         TRANSACCION|\n+--------------+--------------------+--------------------+\n|   {5, Amazon}|{[{59, 9811935}, ...|{2021-01-23, 2628.0}|\n|      {9, IBM}|{[{50, 9912937}, ...|{2021-01-23, 4261.0}|\n|  {7, Samsung}|{[{53, 9769557}, ...|{2021-01-23, 1429.0}|\n|   {5, Amazon}|{[{51, 9733329}, ...|{2021-01-23, 3385.0}|\n|   {4, Toyota}|{[{52, 9091334}, ...|{2021-01-23, 3514.0}|\n|      {9, IBM}|{[{59, 9708669}, ...| {2021-01-23, 823.0}|\n|{2, Microsoft}|{null, 47, 31, Ry...|{2021-01-23, 3724.0}|\n|    {10, Sony}|{[{51, 9443174}],...|{2021-01-23, 3429.0}|\n|   {4, Toyota}|{[{54, 9375039}, ...|{2021-01-23, 4267.0}|\n|      {9, IBM}|{[{59, 9227653}, ...| {2021-01-23, 796.0}|\n+--------------+--------------------+--------------------+\nonly showing top 10 rows\n\n"
          ]
        }
      ],
      "source": [
        "#Mostramos los primeros 10 registros\n",
        "#No podemos ver bien los datos ya que los trunca\n",
        "transacciones_df.show(10)"
      ]
    },
    {
      "cell_type": "code",
      "execution_count": null,
      "metadata": {
        "application/vnd.databricks.v1+cell": {
          "cellMetadata": {
            "byteLimit": 2048000,
            "rowLimit": 10000
          },
          "inputWidgets": {},
          "nuid": "b6e4f5f2-b0b3-4890-a800-866cd4b4f61c",
          "showTitle": false,
          "title": ""
        },
        "id": "z5aRFN0Ihz04",
        "outputId": "08a654ae-f0eb-4090-a147-d01e0671f20e"
      },
      "outputs": [
        {
          "output_type": "stream",
          "name": "stdout",
          "text": [
            "+--------------+------------------------------------------------------------------------------------------------------+--------------------+\n|EMPRESA       |PERSONA                                                                                               |TRANSACCION         |\n+--------------+------------------------------------------------------------------------------------------------------+--------------------+\n|{5, Amazon}   |{[{59, 9811935}, {53, 9423163}], 33, 26, Brenden, 20549.0}                                            |{2021-01-23, 2628.0}|\n|{9, IBM}      |{[{50, 9912937}, {54, 9046676}, {55, 9874284}, {58, 9746053}, {53, 9058704}], 31, 21, Carissa, 1952.0}|{2021-01-23, 4261.0}|\n|{7, Samsung}  |{[{53, 9769557}, {59, 9754523}, {52, 9063371}, {55, 9301624}, {56, 9770100}], 42, 73, Fiona, 9960.0}  |{2021-01-23, 1429.0}|\n|{5, Amazon}   |{[{51, 9733329}, {57, 9619332}, {51, 9087416}, {50, 9486747}], 59, 14, Allen, 16289.0}                |{2021-01-23, 3385.0}|\n|{4, Toyota}   |{[{52, 9091334}, {59, 9831571}], 59, 80, Ebony, 3600.0}                                               |{2021-01-23, 3514.0}|\n|{9, IBM}      |{[{59, 9708669}, {52, 9751344}], 22, 53, Zachery, 23820.0}                                            |{2021-01-23, 823.0} |\n|{2, Microsoft}|{null, 47, 31, Rylee, 21591.0}                                                                        |{2021-01-23, 3724.0}|\n|{10, Sony}    |{[{51, 9443174}], 64, 55, Jennifer, 19013.0}                                                          |{2021-01-23, 3429.0}|\n|{4, Toyota}   |{[{54, 9375039}, {58, 9397273}], 22, 45, Kylynn, 7040.0}                                              |{2021-01-23, 4267.0}|\n|{9, IBM}      |{[{59, 9227653}, {56, 9409477}, {52, 9710151}], 22, 22, Kibo, 7449.0}                                 |{2021-01-23, 796.0} |\n+--------------+------------------------------------------------------------------------------------------------------+--------------------+\nonly showing top 10 rows\n\n"
          ]
        }
      ],
      "source": [
        "#Mostramos los datos sin truncar\n",
        "transacciones_df.show(10, False)"
      ]
    },
    {
      "cell_type": "code",
      "execution_count": null,
      "metadata": {
        "application/vnd.databricks.v1+cell": {
          "cellMetadata": {
            "byteLimit": 2048000,
            "rowLimit": 10000
          },
          "inputWidgets": {},
          "nuid": "e1454809-4927-4677-b8b6-4f82c49a5ff1",
          "showTitle": false,
          "title": ""
        },
        "id": "DWK3Zafehz04",
        "outputId": "cfe8b9f8-5782-4e5b-bad1-8026ce79e6c0"
      },
      "outputs": [
        {
          "output_type": "stream",
          "name": "stdout",
          "text": [
            "root\n |-- EMPRESA: struct (nullable = true)\n |    |-- ID_EMPRESA: string (nullable = true)\n |    |-- NOMBRE_EMPRESA: string (nullable = true)\n |-- PERSONA: struct (nullable = true)\n |    |-- CONTACTO: array (nullable = true)\n |    |    |-- element: struct (containsNull = true)\n |    |    |    |-- PREFIJO: string (nullable = true)\n |    |    |    |-- TELEFONO: string (nullable = true)\n |    |-- EDAD: long (nullable = true)\n |    |-- ID_PERSONA: string (nullable = true)\n |    |-- NOMBRE_PERSONA: string (nullable = true)\n |    |-- SALARIO: double (nullable = true)\n |-- TRANSACCION: struct (nullable = true)\n |    |-- FECHA: string (nullable = true)\n |    |-- MONTO: double (nullable = true)\n\n"
          ]
        }
      ],
      "source": [
        "#Mostramos el esquema de metadatos\n",
        "transacciones_df.printSchema()"
      ]
    }
  ],
  "metadata": {
    "application/vnd.databricks.v1+notebook": {
      "dashboards": [],
      "language": "python",
      "notebookMetadata": {
        "mostRecentlyExecutedCommandWithImplicitDF": {
          "commandId": 3680889038972720,
          "dataframes": [
            "_sqldf"
          ]
        },
        "pythonIndentUnit": 2
      },
      "notebookName": "Clase  - Lectura de Datos",
      "widgets": {}
    },
    "colab": {
      "provenance": []
    }
  },
  "nbformat": 4,
  "nbformat_minor": 0
}