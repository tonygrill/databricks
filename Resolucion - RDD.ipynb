{
 "cells": [
  {
   "cell_type": "code",
   "execution_count": 0,
   "metadata": {
    "application/vnd.databricks.v1+cell": {
     "cellMetadata": {
      "byteLimit": 2048000,
      "rowLimit": 10000
     },
     "inputWidgets": {},
     "nuid": "b6145ed5-6c8f-4bf0-990c-34283783d3c3",
     "showTitle": false,
     "title": ""
    }
   },
   "outputs": [
    {
     "output_type": "stream",
     "name": "stdout",
     "output_type": "stream",
     "text": [
      "Out[1]: [1, 2, 3, 4, 5, 6, 7, 8, 9, 10]"
     ]
    }
   ],
   "source": [
    "#Ejercicio 1:\n",
    "num = [1,2,3,4,5,6,7,8,9,10]\n",
    "num_rdd = sc.parallelize(num) \n",
    "num_rdd.collect()"
   ]
  },
  {
   "cell_type": "code",
   "execution_count": 0,
   "metadata": {
    "application/vnd.databricks.v1+cell": {
     "cellMetadata": {
      "byteLimit": 2048000,
      "rowLimit": 10000
     },
     "inputWidgets": {},
     "nuid": "786a9ea2-547a-48b3-b9bc-8672fbb1a754",
     "showTitle": false,
     "title": ""
    }
   },
   "outputs": [
    {
     "output_type": "stream",
     "name": "stdout",
     "output_type": "stream",
     "text": [
      "Out[2]: [2, 4, 6, 8, 10]"
     ]
    }
   ],
   "source": [
    "#Ejercicio 2:\n",
    "even_rdd = num_rdd.filter(lambda x : x % 2 == 0) \n",
    "even_rdd.collect()"
   ]
  },
  {
   "cell_type": "code",
   "execution_count": 0,
   "metadata": {
    "application/vnd.databricks.v1+cell": {
     "cellMetadata": {
      "byteLimit": 2048000,
      "rowLimit": 10000
     },
     "inputWidgets": {},
     "nuid": "b5029fb4-780c-4005-aad2-9b4df7064f07",
     "showTitle": false,
     "title": ""
    }
   },
   "outputs": [
    {
     "output_type": "stream",
     "name": "stdout",
     "output_type": "stream",
     "text": [
      "Out[5]: 1"
     ]
    }
   ],
   "source": [
    "#Ejercicio 3\n",
    "num_rdd.max()\n",
    "num_rdd.min()"
   ]
  },
  {
   "cell_type": "code",
   "execution_count": 0,
   "metadata": {
    "application/vnd.databricks.v1+cell": {
     "cellMetadata": {
      "byteLimit": 2048000,
      "rowLimit": 10000
     },
     "inputWidgets": {},
     "nuid": "71cf55f7-53f7-477c-89ad-a892082c33f4",
     "showTitle": false,
     "title": ""
    }
   },
   "outputs": [
    {
     "output_type": "stream",
     "name": "stdout",
     "output_type": "stream",
     "text": [
      "5.5\n"
     ]
    }
   ],
   "source": [
    "#Ejercicio 4\n",
    "total_rdd = num_rdd.reduce(lambda x, y : x + y) \n",
    "count = num_rdd.count()\n",
    "average = total_rdd / count\n",
    "print(average)"
   ]
  },
  {
   "cell_type": "code",
   "execution_count": 0,
   "metadata": {
    "application/vnd.databricks.v1+cell": {
     "cellMetadata": {
      "byteLimit": 2048000,
      "rowLimit": 10000
     },
     "inputWidgets": {},
     "nuid": "cf490d29-fe64-4a27-a294-d001e92a9482",
     "showTitle": false,
     "title": ""
    }
   },
   "outputs": [
    {
     "output_type": "stream",
     "name": "stdout",
     "output_type": "stream",
     "text": [
      "Out[7]: [16, 1, 17, 2, 18, 3, 19, 4, 5, 6, 7, 8, 9, 10, 11, 12, 13, 14, 15]"
     ]
    }
   ],
   "source": [
    "#Ejercicio 5\n",
    "num2 = [10,11,12,13,14,15,16,17,18,19]\n",
    "num2_rdd = sc.parallelize(num2) \n",
    "\n",
    "union_rdd = num_rdd.union(num2_rdd).distinct()\n",
    "union_rdd.collect()"
   ]
  }
 ],
 "metadata": {
  "application/vnd.databricks.v1+notebook": {
   "dashboards": [],
   "language": "python",
   "notebookMetadata": {
    "pythonIndentUnit": 4
   },
   "notebookName": "Resolucion - RDD",
   "widgets": {}
  }
 },
 "nbformat": 4,
 "nbformat_minor": 0
}
